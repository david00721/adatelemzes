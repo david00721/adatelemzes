{
 "cells": [
  {
   "cell_type": "markdown",
   "metadata": {},
   "source": [
    "# Import necessary libraries\n"
   ]
  },
  {
   "cell_type": "code",
   "execution_count": null,
   "metadata": {},
   "outputs": [],
   "source": [
    "import pandas as pd \n",
    "import numpy as np\n",
    "import plotly.express as px\n",
    "import plotly.graph_objs as go\n",
    "import plotly.figure_factory as ff\n",
    "import json\n",
    "import calendar\n",
    "from collections import Counter\n",
    "from plotly.offline import iplot\n",
    "from plotly.subplots import make_subplots"
   ]
  },
  {
   "cell_type": "markdown",
   "metadata": {},
   "source": [
    "# Read data from a CSV file into a pandas DataFrame and handle defects\n"
   ]
  },
  {
   "cell_type": "code",
   "execution_count": null,
   "metadata": {},
   "outputs": [],
   "source": [
    "df = pd.read_csv('netflix_titles.csv')\n",
    "df.info()"
   ]
  },
  {
   "cell_type": "markdown",
   "metadata": {},
   "source": [
    "Check and display null rates for each column in the DataFrame"
   ]
  },
  {
   "cell_type": "code",
   "execution_count": null,
   "metadata": {},
   "outputs": [],
   "source": [
    "for i in df.columns:\n",
    "    null_rate = df[i].isna().sum() / len(df) * 100 \n",
    "    if null_rate > 0 :\n",
    "        print(f\"{i} null rate: {round(null_rate, 2)}%\")"
   ]
  },
  {
   "cell_type": "markdown",
   "metadata": {},
   "source": [
    "\n",
    "Dealing with missing data\n",
    "* Replace NaN values in specific columns with 'No Data'\n",
    "* Drop rows with NaN values in any column\n",
    "* Drop duplicate rows from the DataFrame"
   ]
  },
  {
   "cell_type": "code",
   "execution_count": null,
   "metadata": {},
   "outputs": [],
   "source": [
    "df['country'].replace(np.nan, 'No Data', inplace  = True)\n",
    "df['cast'].replace(np.nan, 'No Data', inplace  = True)\n",
    "df['director'].replace(np.nan, 'No Data', inplace  = True)\n",
    "\n",
    "df.dropna(inplace=True)\n",
    "\n",
    "df.drop_duplicates(inplace= True)"
   ]
  },
  {
   "cell_type": "markdown",
   "metadata": {},
   "source": [
    "Dealing with dates, seasons and durations"
   ]
  },
  {
   "cell_type": "code",
   "execution_count": null,
   "metadata": {},
   "outputs": [],
   "source": [
    "df[\"date_added\"] = pd.to_datetime(df['date_added'], format='%B %d, %Y', errors='coerce')\n",
    "df['year_added'] = df['date_added'].dt.year.fillna(0).astype(int)\n",
    "df['month_added'] = df['date_added'].dt.month.fillna(0).astype(int)\n",
    "\n",
    "df['season_count'] = df.apply(lambda x: x['duration'].split(\" \")[0] if \"Season\" in x['duration'] else \"\", axis=1)\n",
    "df['duration'] = df.apply(lambda x: x['duration'].split(\" \")[0] if \"Season\" not in x['duration'] else \"\", axis=1)\n",
    "df.head()"
   ]
  },
  {
   "cell_type": "code",
   "execution_count": null,
   "metadata": {},
   "outputs": [],
   "source": [
    "grouped_data = df.groupby('type').size().reset_index(name='count')\n",
    "\n",
    "fig = px.pie(grouped_data, names='type', values='count', title='Distribution of Netflix Content Types',\n",
    "             hole=0.3, color_discrete_sequence=px.colors.qualitative.Set3)\n",
    "\n",
    "\n",
    "fig.update_layout(margin=dict(l=20, r=20, t=60, b=20), showlegend=True)\n",
    "\n",
    "fig.show()"
   ]
  },
  {
   "cell_type": "markdown",
   "metadata": {},
   "source": [
    "# Distribution of Netflix content types\n",
    "This code generates a pie chart using Plotly to illustrate the distribution of Netflix content types. It begins by grouping the DataFrame by 'type' and calculating the count for each type. The pie chart is then created with specific settings such as title, colors, and layout adjustments. Finally, the interactive plot is displayed."
   ]
  },
  {
   "cell_type": "code",
   "execution_count": null,
   "metadata": {},
   "outputs": [],
   "source": [
    "col = \"year_added\"\n",
    "\n",
    "df_filtered = df[df['year_added'] > 0]\n",
    "\n",
    "d1 = df_filtered[df_filtered[\"type\"] == \"TV Show\"]\n",
    "d2 = df_filtered[df_filtered[\"type\"] == \"Movie\"]\n",
    "\n",
    "vc1 = d1[col].value_counts().reset_index()\n",
    "vc1['percent'] = vc1['count'].apply(lambda x : 100 * x / sum(vc1['count']))\n",
    "vc1 = vc1.sort_values(col)\n",
    "\n",
    "vc2 = d2[col].value_counts().reset_index()\n",
    "vc2['percent'] = vc2['count'].apply(lambda x : 100 * x / sum(vc2['count']))\n",
    "vc2 = vc2.sort_values(col)"
   ]
  },
  {
   "cell_type": "markdown",
   "metadata": {},
   "source": [
    "\n",
    "Trend of content added over the years for TV Shows and Movies."
   ]
  },
  {
   "cell_type": "code",
   "execution_count": null,
   "metadata": {},
   "outputs": [],
   "source": [
    "trace1 = go.Scatter(x=vc1[col], y=vc1[\"count\"], name=\"TV Shows\", marker=dict(color=\"#a678de\"))\n",
    "trace2 = go.Scatter(x=vc2[col], y=vc2[\"count\"], name=\"Movies\", marker=dict(color=\"#6ad49b\"))\n",
    "\n",
    "layout = go.Layout(title=\"Content added over the years\",\n",
    "                   xaxis=dict(title='Year'), yaxis=dict(title='Content'), \n",
    "                   legend=dict(x=0.1, y=1.1, orientation=\"h\"))\n",
    "\n",
    "fig = go.Figure(data=[trace1, trace2], layout=layout)\n",
    "fig.show()"
   ]
  },
  {
   "cell_type": "markdown",
   "metadata": {},
   "source": [
    "Percentage of TV shows and movies added over the years. "
   ]
  },
  {
   "cell_type": "code",
   "execution_count": null,
   "metadata": {},
   "outputs": [],
   "source": [
    "trace3 = go.Scatter(x=vc1[col], y=vc1[\"percent\"], name=\"TV Shows\", line=dict(color=\"#a678de\"))\n",
    "trace4 = go.Scatter(x=vc2[col], y=vc2[\"percent\"], name=\"Movies\", line=dict(color=\"#6ad49b\"))\n",
    "\n",
    "layout = go.Layout(title=\"Percentage of Content added over the years\",\n",
    "                   xaxis=dict(title='Year'), yaxis=dict(title='Percentage'),\n",
    "                   legend=dict(x=0.1, y=1.1, orientation=\"h\"))\n",
    "fig = go.Figure(data=[trace3, trace4], layout=layout)\n",
    "fig.show()"
   ]
  },
  {
   "cell_type": "markdown",
   "metadata": {},
   "source": [
    "This code determines the year in which the maximum number of TV shows and movies were added, respectively."
   ]
  },
  {
   "cell_type": "code",
   "execution_count": null,
   "metadata": {},
   "outputs": [],
   "source": [
    "max_tv_shows_year = vc1.loc[vc1['count'].idxmax()][col]\n",
    "max_movies_year = vc2.loc[vc2['count'].idxmax()][col]\n",
    "\n",
    "print(f\"The maximum number of TV Shows was added in {int(max_tv_shows_year)}.\")\n",
    "print(f\"The maximum number of Movies was added in {int(max_movies_year)}.\")"
   ]
  },
  {
   "cell_type": "markdown",
   "metadata": {},
   "source": [
    "\n",
    "Distribution of release years for added TV shows and movies, with counts represented by different bars for each content type."
   ]
  },
  {
   "cell_type": "code",
   "execution_count": null,
   "metadata": {},
   "outputs": [],
   "source": [
    "col = \"release_year\"\n",
    "\n",
    "df_filtered = df[df['release_year'] > 0]\n",
    "\n",
    "d1 = df_filtered[df_filtered[\"type\"] == \"TV Show\"]\n",
    "d2 = df_filtered[df_filtered[\"type\"] == \"Movie\"]\n",
    "\n",
    "vc1 = d1[col].value_counts().reset_index()\n",
    "vc1['percent'] = vc1['count'].apply(lambda x : 100 * x / sum(vc1['count']))\n",
    "vc1 = vc1.sort_values(col)\n",
    "\n",
    "vc2 = d2[col].value_counts().reset_index()\n",
    "vc2['percent'] = vc2['count'].apply(lambda x : 100 * x / sum(vc2['count']))\n",
    "vc2 = vc2.sort_values(col)\n",
    "\n",
    "trace1 = go.Bar(x=vc1[col], y=vc1[\"count\"], name=\"TV Shows\", marker=dict(color=\"#a678de\"))\n",
    "trace2 = go.Bar(x=vc2[col], y=vc2[\"count\"], name=\"Movies\", marker=dict(color=\"#6ad49b\"))\n",
    "data = [trace1, trace2]\n",
    "layout = go.Layout(title=\"Release year of added contents\", legend=dict(x=0.1, y=1.1, orientation=\"h\"))\n",
    "fig = go.Figure(data, layout=layout)\n",
    "fig.show()"
   ]
  },
  {
   "cell_type": "markdown",
   "metadata": {},
   "source": [
    "Titles and release years of the first 15 entries."
   ]
  },
  {
   "cell_type": "code",
   "execution_count": null,
   "metadata": {},
   "outputs": [],
   "source": [
    "small = df.sort_values(\"release_year\", ascending = True)\n",
    "small = small[small['duration'] != \"\"]\n",
    "small[['title', \"release_year\"]][:15]"
   ]
  },
  {
   "cell_type": "markdown",
   "metadata": {},
   "source": [
    "Titles and release years of the first 15 entries for TV shows"
   ]
  },
  {
   "cell_type": "code",
   "execution_count": null,
   "metadata": {},
   "outputs": [],
   "source": [
    "small = df.sort_values(\"release_year\", ascending = True)\n",
    "small = small[small['season_count'] != \"\"]\n",
    "small[['title', \"release_year\"]][:15]"
   ]
  },
  {
   "cell_type": "markdown",
   "metadata": {},
   "source": [
    "Displays the distribution of added contents per month"
   ]
  },
  {
   "cell_type": "code",
   "execution_count": null,
   "metadata": {},
   "outputs": [],
   "source": [
    "col = 'month_added'\n",
    "df_filtered = df[df[col] > 0]\n",
    "\n",
    "d1 = df_filtered[df_filtered[\"type\"] == \"TV Show\"]\n",
    "d2 = df_filtered[df_filtered[\"type\"] == \"Movie\"]\n",
    "\n",
    "vc1 = d1[col].value_counts().reset_index()\n",
    "vc1['percent'] = vc1['count'].apply(lambda x : 100 * x / sum(vc1['count']))\n",
    "vc1 = vc1.sort_values(col)\n",
    "\n",
    "vc2 = d2[col].value_counts().reset_index()\n",
    "vc2['percent'] = vc2['count'].apply(lambda x : 100 * x / sum(vc2['count']))\n",
    "vc2 = vc2.sort_values(col)\n",
    "\n",
    "trace1 = go.Bar(x=vc1[col], y=vc1[\"count\"], name=\"TV Shows\", marker=dict(color=\"#a678de\"))\n",
    "trace2 = go.Bar(x=vc2[col], y=vc2[\"count\"], name=\"Movies\", marker=dict(color=\"#6ad49b\"))\n",
    "\n",
    "data = [trace1, trace2]\n",
    "layout = go.Layout(title=\"In which month, the conent is added the most?\", legend=dict(x=0.1, y=1.1, orientation=\"h\"))\n",
    "fig = go.Figure(data, layout=layout)\n",
    "\n",
    "fig.show()"
   ]
  },
  {
   "cell_type": "markdown",
   "metadata": {},
   "source": [
    "Print the month in which the most TV shows and movies were added."
   ]
  },
  {
   "cell_type": "code",
   "execution_count": null,
   "metadata": {},
   "outputs": [],
   "source": [
    "max_tv_shows_year = vc1.loc[vc1['count'].idxmax()][col]\n",
    "max_movies_year = vc2.loc[vc2['count'].idxmax()][col]\n",
    "\n",
    "print(f\"The most of the TV Shows was added in {calendar.month_name[int(max_tv_shows_year)]}.\")\n",
    "print(f\"The most of the Movies was added in {calendar.month_name[int(max_movies_year)]}.\")"
   ]
  },
  {
   "cell_type": "markdown",
   "metadata": {},
   "source": [
    "This code generates a choropleth map and a horizontal bar chart to visualize the distribution of content across different countries."
   ]
  },
  {
   "cell_type": "code",
   "execution_count": null,
   "metadata": {},
   "outputs": [],
   "source": [
    "file_path = 'countries.json'\n",
    "\n",
    "with open(file_path, 'r') as file:\n",
    "    country_codes = json.load(file)"
   ]
  },
  {
   "cell_type": "markdown",
   "metadata": {},
   "source": [
    "Distribution of movie durations"
   ]
  },
  {
   "cell_type": "code",
   "execution_count": null,
   "metadata": {},
   "outputs": [],
   "source": [
    "x1 = d2['duration'].fillna(0.0).astype(float)\n",
    "fig = ff.create_distplot([x1], ['a'], bin_size=0.7, curve_type='normal', colors=[\"#6ad49b\"])\n",
    "fig.update_layout(title_text='Distplot with Normal Distribution')\n",
    "fig.show()"
   ]
  },
  {
   "cell_type": "markdown",
   "metadata": {},
   "source": [
    "Distribution of the number of seasons for TV shows."
   ]
  },
  {
   "cell_type": "code",
   "execution_count": null,
   "metadata": {},
   "outputs": [],
   "source": [
    "col = 'season_count'\n",
    "vc1 = d1[col].value_counts().reset_index()\n",
    "vc1['percent'] = vc1['count'].apply(lambda x : 100*x/sum(vc1['count']))\n",
    "\n",
    "trace1 = go.Bar(x=vc1[col], y=vc1[\"count\"], name=\"TV Shows\", marker=dict(color=\"#a678de\"))\n",
    "data = [trace1]\n",
    "layout = go.Layout(title=\"Seasons\", legend=dict(x=0.1, y=1.1, orientation=\"h\"))\n",
    "fig = go.Figure(data, layout=layout)\n",
    "fig.show()"
   ]
  },
  {
   "cell_type": "markdown",
   "metadata": {},
   "source": [
    "Compare the distribution of ratings for TV shows and movies"
   ]
  },
  {
   "cell_type": "code",
   "execution_count": null,
   "metadata": {},
   "outputs": [],
   "source": [
    "col = \"rating\"\n",
    "\n",
    "vc1 = d1[col].value_counts().reset_index()\n",
    "vc1['percent'] = vc1['count'].apply(lambda x : 100*x/sum(vc1['count']))\n",
    "vc1 = vc1.sort_values(col)\n",
    "\n",
    "vc2 = d2[col].value_counts().reset_index()\n",
    "vc2['percent'] = vc2['count'].apply(lambda x : 100*x/sum(vc2['count']))\n",
    "vc2 = vc2.sort_values(col)\n",
    "\n",
    "trace1 = go.Bar(x=vc1[col], y=vc1[\"count\"], name=\"TV Shows\", marker=dict(color=\"#a678de\"))\n",
    "trace2 = go.Bar(x=vc2[col], y=vc2[\"count\"], name=\"Movies\", marker=dict(color=\"#6ad49b\"))\n",
    "data = [trace1, trace2]\n",
    "layout = go.Layout(title=\"Content added over the years\", legend=dict(x=0.1, y=1.1, orientation=\"h\"))\n",
    "fig = go.Figure(data, layout=layout)\n",
    "fig.show()"
   ]
  },
  {
   "cell_type": "markdown",
   "metadata": {},
   "source": [
    "Visualize the distribution of content categories (genres) for movies"
   ]
  },
  {
   "cell_type": "code",
   "execution_count": null,
   "metadata": {},
   "outputs": [],
   "source": [
    "col = \"listed_in\"\n",
    "categories = \", \".join(d2['listed_in']).split(\", \")\n",
    "counter_list = Counter(categories).most_common(50)\n",
    "labels = [_[0] for _ in counter_list][::-1]\n",
    "values = [_[1] for _ in counter_list][::-1]\n",
    "trace1 = go.Bar(y=labels, x=values, orientation=\"h\", name=\"TV Shows\", marker=dict(color=\"#a678de\"))\n",
    "\n",
    "data = [trace1]\n",
    "layout = go.Layout(title=\"Content added over the years\", legend=dict(x=0.1, y=1.1, orientation=\"h\"))\n",
    "fig = go.Figure(data, layout=layout)\n",
    "fig.show()"
   ]
  },
  {
   "cell_type": "markdown",
   "metadata": {},
   "source": [
    "Most common cast members in movies or TV shows from the United States, India, the United Kingdom, Canada, Spain, and Japan"
   ]
  },
  {
   "cell_type": "code",
   "execution_count": null,
   "metadata": {},
   "outputs": [],
   "source": [
    "def country_trace(country, flag = \"movie\"):\n",
    "    df_filtered = df[df[\"cast\"] != \"No Data\"]\n",
    "    df_filtered[\"from_us\"] = df_filtered['country'].fillna(\"\").apply(lambda x : 1 if country.lower() in x.lower() else 0)\n",
    "    small = df_filtered[df_filtered[\"from_us\"] == 1]\n",
    "    if flag == \"movie\":\n",
    "        small = small[small[\"duration\"] != \"\"]\n",
    "    else:\n",
    "        small = small[small[\"season_count\"] != \"\"]\n",
    "    cast = \", \".join(small['cast'].fillna(\"\")).split(\", \")\n",
    "    tags = Counter(cast).most_common(25)\n",
    "    tags = [_ for _ in tags if \"\" != _[0]]\n",
    "\n",
    "    labels, values = [_[0]+\"  \" for _ in tags], [_[1] for _ in tags]\n",
    "    trace = go.Bar(y=labels[::-1], x=values[::-1], orientation=\"h\", name=\"\", marker=dict(color=\"#a678de\"))\n",
    "    return trace\n",
    "\n",
    "traces = []\n",
    "titles = [\"United States\", \"\", \"India\", \"\", \"United Kingdom\", \"Canada\", \"\", \"Spain\", \"\", \"Japan\"]\n",
    "for title in titles:\n",
    "    if title != \"\":\n",
    "        traces.append(country_trace(title))\n",
    "\n",
    "fig = make_subplots(rows=2, cols=5, subplot_titles=titles)\n",
    "fig.add_trace(traces[0], 1,1)\n",
    "fig.add_trace(traces[1], 1,3)\n",
    "fig.add_trace(traces[2], 1,5)\n",
    "fig.add_trace(traces[3], 2,1)\n",
    "fig.add_trace(traces[4], 2,3)\n",
    "fig.add_trace(traces[5], 2,5)\n",
    "\n",
    "fig.update_layout(height=1200, showlegend=False)\n",
    "fig.show()"
   ]
  },
  {
   "cell_type": "markdown",
   "metadata": {},
   "source": [
    "Most common cast members in TV shows from the United States, the United Kingdom"
   ]
  },
  {
   "cell_type": "code",
   "execution_count": null,
   "metadata": {},
   "outputs": [],
   "source": [
    "traces = []\n",
    "titles = [\"United States\",\"\", \"United Kingdom\"]\n",
    "for title in titles:\n",
    "    if title != \"\":\n",
    "        traces.append(country_trace(title, flag=\"tv_shows\"))\n",
    "\n",
    "fig = make_subplots(rows=1, cols=3, subplot_titles=titles)\n",
    "fig.add_trace(traces[0], 1,1)\n",
    "fig.add_trace(traces[1], 1,3)\n",
    "\n",
    "fig.update_layout(height=600, showlegend=False)\n",
    "fig.show()"
   ]
  },
  {
   "cell_type": "markdown",
   "metadata": {},
   "source": [
    "Display the most prolific movie directors from the United States based on the amount of content they have produced"
   ]
  },
  {
   "cell_type": "code",
   "execution_count": null,
   "metadata": {},
   "outputs": [],
   "source": [
    "col = \"director\"\n",
    "df_filtered = df[df[col] != \"No Data\"]\n",
    "small = df_filtered[df_filtered[\"type\"] == \"Movie\"]\n",
    "small = small[small[\"country\"] == \"United States\"]\n",
    "\n",
    "categories = \", \".join(small[col].fillna(\"\")).split(\", \")\n",
    "counter_list = Counter(categories).most_common(12)\n",
    "counter_list = [_ for _ in counter_list if _[0] != \"\"]\n",
    "labels = [_[0] for _ in counter_list][::-1]\n",
    "values = [_[1] for _ in counter_list][::-1]\n",
    "trace1 = go.Bar(y=labels, x=values, orientation=\"h\", name=\"TV Shows\", marker=dict(color=\"orange\"))\n",
    "\n",
    "data = [trace1]\n",
    "layout = go.Layout(title=\"Movie Directors from US with most content\", legend=dict(x=0.1, y=1.1, orientation=\"h\"))\n",
    "fig = go.Figure(data, layout=layout)\n",
    "fig.show()"
   ]
  },
  {
   "cell_type": "markdown",
   "metadata": {},
   "source": [
    "Contents of the movie directior with the most content."
   ]
  },
  {
   "cell_type": "code",
   "execution_count": null,
   "metadata": {},
   "outputs": [],
   "source": [
    "tag = \"jay karas\"\n",
    "df[\"relevant\"] = df['director'].fillna(\"\").apply(lambda x : 1 if tag in x.lower() else 0)\n",
    "small = df[df[\"relevant\"] == 1]\n",
    "small[['title', 'release_year', 'listed_in']]"
   ]
  },
  {
   "cell_type": "code",
   "execution_count": null,
   "metadata": {},
   "outputs": [],
   "source": [
    "tag = \"Stand-Up Comedy\"\n",
    "df[\"relevant\"] = df['listed_in'].fillna(\"\").apply(lambda x : 1 if tag.lower() in x.lower() else 0)\n",
    "small = df[df[\"relevant\"] == 1]\n",
    "small[small[\"country\"] == \"United States\"][[\"title\", \"country\",\"release_year\"]].head(10)"
   ]
  }
 ],
 "metadata": {
  "kernelspec": {
   "display_name": ".venv",
   "language": "python",
   "name": "python3"
  },
  "language_info": {
   "codemirror_mode": {
    "name": "ipython",
    "version": 3
   },
   "file_extension": ".py",
   "mimetype": "text/x-python",
   "name": "python",
   "nbconvert_exporter": "python",
   "pygments_lexer": "ipython3",
   "version": "3.11.5"
  }
 },
 "nbformat": 4,
 "nbformat_minor": 2
}
